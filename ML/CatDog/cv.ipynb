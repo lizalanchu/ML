{
 "cells": [
  {
   "cell_type": "code",
   "execution_count": 193,
   "metadata": {
    "collapsed": false,
    "pycharm": {
     "name": "#%%\n"
    }
   },
   "outputs": [],
   "source": [
    "import torch\n",
    "import torch.nn as nn\n",
    "from torchvision import datasets, transforms\n",
    "import torch.optim as optim\n",
    "import torch.nn.functional as F\n",
    "from PIL import Image\n",
    "import os"
   ]
  },
  {
   "cell_type": "code",
   "execution_count": 194,
   "metadata": {
    "collapsed": false,
    "pycharm": {
     "name": "#%%\n"
    }
   },
   "outputs": [],
   "source": [
    "device=\"cuda\" if torch.cuda.is_available() else \"cpu\""
   ]
  },
  {
   "cell_type": "code",
   "execution_count": 195,
   "metadata": {
    "collapsed": false,
    "pycharm": {
     "name": "#%%\n"
    }
   },
   "outputs": [],
   "source": [
    "transform = transforms.Compose([\n",
    "    transforms.Resize((224, 224)),\n",
    "    transforms.Grayscale(),\n",
    "    transforms.ToTensor()\n",
    "])"
   ]
  },
  {
   "cell_type": "code",
   "execution_count": 196,
   "metadata": {
    "collapsed": false,
    "pycharm": {
     "name": "#%%\n"
    }
   },
   "outputs": [],
   "source": [
    "lr =0.001\n",
    "batch_size=100\n",
    "epochs = 15"
   ]
  },
  {
   "cell_type": "code",
   "execution_count": 197,
   "metadata": {
    "collapsed": false,
    "pycharm": {
     "name": "#%%\n"
    }
   },
   "outputs": [],
   "source": [
    "# Load train and test data\n",
    "train_dir = r\"C:\\Users\\lizal\\Desktop\\ML\\CatDog\\PetImages\"\n",
    "import glob\n",
    "\n",
    "#train_list = glob.glob(os.path.join(train_dir,'*.jpg')) # LINUX\n",
    "train_list = []\n",
    "\n",
    "for path, currentDirectory, files in os.walk(train_dir):\n",
    "    for file in files:\n",
    "        train_list.append(os.path.join(path, file))\n"
   ]
  },
  {
   "cell_type": "code",
   "execution_count": 198,
   "metadata": {
    "collapsed": false,
    "pycharm": {
     "name": "#%%\n"
    }
   },
   "outputs": [],
   "source": [
    "class dataset(torch.utils.data.Dataset):\n",
    "    def __init__(self,file_list,transform = None):\n",
    "        self.file_list=file_list\n",
    "        self.transform=transform\n",
    "\n",
    "    def __len__(self):\n",
    "        self.filelength =len(self.file_list)\n",
    "        return self.filelength\n",
    "\n",
    "    def __getitem__(self,idx):\n",
    "        img_path =self.file_list[idx]\n",
    "        img = Image.open(img_path)\n",
    "        img_transformed = self.transform(img)\n",
    "\n",
    "        label = os.path.split(os.path.split(img_path)[-2])[-1]\n",
    "        if label == 'Dog':\n",
    "            label = torch.tensor(1)\n",
    "        elif label == 'Cat':\n",
    "            label = torch.tensor(0)\n",
    "\n",
    "        return img_transformed,label"
   ]
  },
  {
   "cell_type": "code",
   "execution_count": 199,
   "metadata": {
    "collapsed": false,
    "pycharm": {
     "name": "#%%\n"
    }
   },
   "outputs": [],
   "source": [
    "from sklearn.model_selection import train_test_split\n",
    "train_list,val_list = train_test_split(train_list , test_size =0.2)"
   ]
  },
  {
   "cell_type": "code",
   "execution_count": 200,
   "metadata": {
    "collapsed": false,
    "pycharm": {
     "name": "#%%\n"
    }
   },
   "outputs": [],
   "source": [
    "train_data = dataset(train_list,transform=transform)\n",
    "val_data = dataset(val_list,transform=transform)"
   ]
  },
  {
   "cell_type": "code",
   "execution_count": 201,
   "metadata": {
    "collapsed": false,
    "pycharm": {
     "name": "#%%\n"
    }
   },
   "outputs": [],
   "source": [
    "train_loader = torch.utils.data.DataLoader(dataset = train_data, batch_size = batch_size,shuffle = True)\n",
    "val_loader = torch.utils.data.DataLoader(dataset = val_data, batch_size = batch_size,shuffle = True)"
   ]
  },
  {
   "cell_type": "code",
   "execution_count": 202,
   "metadata": {
    "collapsed": false,
    "pycharm": {
     "name": "#%%\n"
    }
   },
   "outputs": [],
   "source": [
    "class Cnn(nn.Module):\n",
    "    def __init__(self):\n",
    "        super(Cnn,self).__init__()\n",
    "\n",
    "        self.layer1 = nn.Sequential(\n",
    "            nn.Conv2d(1, 64,kernel_size=3,padding=1,stride=2),\n",
    "            nn.BatchNorm2d(64),\n",
    "            nn.ReLU(),\n",
    "            nn.MaxPool2d(2)\n",
    "        )\n",
    "\n",
    "        self.layer2 = nn.Sequential(\n",
    "            nn.Conv2d(64, 128,kernel_size=3,padding=1,stride=2),\n",
    "            nn.BatchNorm2d(128),\n",
    "            nn.ReLU(),\n",
    "            nn.MaxPool2d(2)\n",
    "\n",
    "        )\n",
    "\n",
    "\n",
    "        self.layer3 = nn.Sequential(\n",
    "            nn.Conv2d(128, 256,kernel_size=3,padding=1,stride=2),\n",
    "            nn.BatchNorm2d(256),\n",
    "            nn.ReLU(),\n",
    "            nn.MaxPool2d(2)\n",
    "\n",
    "        )\n",
    "        \n",
    "        self.layer4 = nn.Sequential(\n",
    "            nn.Conv2d(256, 512,kernel_size=3,padding=1,stride=2),\n",
    "            nn.BatchNorm2d(512),\n",
    "            nn.ReLU(),\n",
    "            nn.MaxPool2d(2)\n",
    "\n",
    "        )\n",
    "\n",
    "        self.fc1 = nn.Linear(512, 1024)\n",
    "        self.dropout = nn.Dropout(0.5)\n",
    "        self.fc2 = nn.Linear(1024, 1024)\n",
    "        self.fc3 = nn.Linear(1024, 2)\n",
    "        self.relu = nn.ReLU()\n",
    "\n",
    "    def forward(self,x):\n",
    "        out =self.layer1(x)\n",
    "        out =self.layer2(out)\n",
    "        out =self.layer3(out)\n",
    "        out =self.layer4(out)\n",
    "        out =out.view(out.size(0),-1)\n",
    "        out =self.relu(self.fc1(out))\n",
    "        out =self.relu(self.fc2(out))\n",
    "        out =self.dropout(out)\n",
    "        out =self.fc3(out)\n",
    "        return out\n"
   ]
  },
  {
   "cell_type": "code",
   "execution_count": 203,
   "metadata": {
    "collapsed": false,
    "pycharm": {
     "name": "#%%\n"
    }
   },
   "outputs": [],
   "source": [
    "model = Cnn().to(device)\n",
    "model.train()\n",
    "optimizer = optim.Adam(params = model.parameters(),lr =0.001)\n",
    "criterion = nn.CrossEntropyLoss()"
   ]
  },
  {
   "cell_type": "code",
   "execution_count": 204,
   "metadata": {
    "collapsed": false,
    "pycharm": {
     "name": "#%%\n"
    }
   },
   "outputs": [
    {
     "name": "stdout",
     "output_type": "stream",
     "text": [
      "Epoch : 1, train accuracy : 0.7101794481277466, train loss : 0.5601237416267395\n",
      "Epoch : 1, val_accuracy : 0.7806000709533691, val_loss : 0.4504290521144867\n",
      "Epoch : 2, train accuracy : 0.8166294693946838, train loss : 0.4040977656841278\n",
      "Epoch : 2, val_accuracy : 0.8345999121665955, val_loss : 0.3759148120880127\n",
      "Epoch : 3, train accuracy : 0.8579844236373901, train loss : 0.3278169333934784\n",
      "Epoch : 3, val_accuracy : 0.8458001613616943, val_loss : 0.3561974763870239\n",
      "Epoch : 4, train accuracy : 0.8950397968292236, train loss : 0.25196221470832825\n",
      "Epoch : 4, val_accuracy : 0.8520000576972961, val_loss : 0.34110599756240845\n",
      "Epoch : 5, train accuracy : 0.9215458035469055, train loss : 0.1943846195936203\n",
      "Epoch : 5, val_accuracy : 0.8434000015258789, val_loss : 0.40895459055900574\n",
      "Epoch : 6, train accuracy : 0.9453941583633423, train loss : 0.1366310566663742\n",
      "Epoch : 6, val_accuracy : 0.8403998613357544, val_loss : 0.4744042158126831\n",
      "Epoch : 7, train accuracy : 0.9609969258308411, train loss : 0.10064508765935898\n",
      "Epoch : 7, val_accuracy : 0.8441998362541199, val_loss : 0.44128891825675964\n",
      "Epoch : 8, train accuracy : 0.9718416929244995, train loss : 0.07469798624515533\n",
      "Epoch : 8, val_accuracy : 0.8413999676704407, val_loss : 0.4824916124343872\n",
      "Epoch : 9, train accuracy : 0.9802475571632385, train loss : 0.05224150791764259\n",
      "Epoch : 9, val_accuracy : 0.8509999513626099, val_loss : 0.6229738593101501\n",
      "Epoch : 10, train accuracy : 0.9833472371101379, train loss : 0.04562821611762047\n",
      "Epoch : 10, val_accuracy : 0.8403998613357544, val_loss : 0.5888391733169556\n",
      "Epoch : 11, train accuracy : 0.9826940298080444, train loss : 0.04657456651329994\n",
      "Epoch : 11, val_accuracy : 0.8504001498222351, val_loss : 0.7429525852203369\n",
      "Epoch : 12, train accuracy : 0.9851468205451965, train loss : 0.038800355046987534\n",
      "Epoch : 12, val_accuracy : 0.8558000326156616, val_loss : 0.7730692028999329\n",
      "Epoch : 13, train accuracy : 0.9866971969604492, train loss : 0.033366940915584564\n",
      "Epoch : 13, val_accuracy : 0.8452001214027405, val_loss : 0.728108823299408\n",
      "Epoch : 14, train accuracy : 0.9874480366706848, train loss : 0.034628357738256454\n",
      "Epoch : 14, val_accuracy : 0.8511999249458313, val_loss : 0.5640442967414856\n",
      "Epoch : 15, train accuracy : 0.9879478812217712, train loss : 0.034383516758680344\n",
      "Epoch : 15, val_accuracy : 0.8538001179695129, val_loss : 0.6602661609649658\n"
     ]
    }
   ],
   "source": [
    "epochs = 15\n",
    "\n",
    "for epoch in range(epochs):\n",
    "    epoch_loss =0\n",
    "    epoch_accuracy = 0\n",
    "\n",
    "    for data,label in train_loader:\n",
    "        data= data.to(device)\n",
    "        label = label.to(device)\n",
    "\n",
    "        output = model(data)\n",
    "        loss = criterion(output,label)\n",
    "\n",
    "        optimizer.zero_grad()\n",
    "        loss.backward()\n",
    "        optimizer.step()\n",
    "\n",
    "        acc = ((output.argmax(dim=1)==label).float().mean())\n",
    "        epoch_accuracy += acc/len(train_loader)\n",
    "        epoch_loss += loss/len(train_loader)\n",
    "\n",
    "    print('Epoch : {}, train accuracy : {}, train loss : {}'.format(epoch+1, epoch_accuracy,epoch_loss))\n",
    "\n",
    "    with torch.no_grad():\n",
    "        epoch_val_accuracy =0\n",
    "        epoch_val_loss = 0\n",
    "        for data,label in  val_loader:\n",
    "            data= data.to(device)\n",
    "\n",
    "            label = label.to(device)\n",
    "\n",
    "            val_output = model(data)\n",
    "            val_loss = criterion(val_output,label)\n",
    "\n",
    "\n",
    "            acc = ((val_output.argmax(dim=1)==label).float().mean())\n",
    "            epoch_val_accuracy += acc/len(val_loader)\n",
    "            epoch_val_loss += val_loss/len(val_loader)\n",
    "        print('Epoch : {}, val_accuracy : {}, val_loss : {}'.format(epoch+1, epoch_val_accuracy,epoch_val_loss))\n"
   ]
  },
  {
   "cell_type": "code",
   "execution_count": null,
   "metadata": {
    "collapsed": false,
    "pycharm": {
     "name": "#%%\n"
    }
   },
   "outputs": [],
   "source": []
  },
  {
   "attachments": {},
   "cell_type": "markdown",
   "metadata": {},
   "source": []
  }
 ],
 "metadata": {
  "kernelspec": {
   "display_name": "Python 3",
   "language": "python",
   "name": "python3"
  },
  "language_info": {
   "codemirror_mode": {
    "name": "ipython",
    "version": 3
   },
   "file_extension": ".py",
   "mimetype": "text/x-python",
   "name": "python",
   "nbconvert_exporter": "python",
   "pygments_lexer": "ipython3",
   "version": "3.11.3"
  }
 },
 "nbformat": 4,
 "nbformat_minor": 0
}
