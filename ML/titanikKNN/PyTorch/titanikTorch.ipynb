{
 "cells": [
  {
   "cell_type": "code",
   "execution_count": 104,
   "metadata": {},
   "outputs": [],
   "source": [
    "import torch\n",
    "import torch.nn as nn\n",
    "import torch.optim as optim\n",
    "from torch.utils.data import DataLoader\n",
    "from sklearn.model_selection import train_test_split\n",
    "import pandas as pd"
   ]
  },
  {
   "cell_type": "code",
   "execution_count": 105,
   "metadata": {},
   "outputs": [],
   "source": [
    "train = pd.read_csv('../train.csv')\n",
    "test = pd.read_csv('../test.csv')"
   ]
  },
  {
   "cell_type": "code",
   "execution_count": 106,
   "metadata": {},
   "outputs": [],
   "source": [
    "train.drop(['PassengerId', 'Name', 'Ticket', 'Cabin'], axis=1, inplace=True)\n",
    "\n",
    "train['Sex'] = train['Sex'].map({'male': 0, 'female': 1})\n",
    "\n",
    "train['Embarked'] = train['Embarked'].fillna('S')\n",
    "train['Embarked'] = train['Embarked'].map({'S': 0, 'C': 1, 'Q': 2})\n",
    "\n",
    "train['Age'] = train['Age'].fillna(train['Age'].mean())\n"
   ]
  },
  {
   "cell_type": "code",
   "execution_count": 107,
   "metadata": {},
   "outputs": [
    {
     "data": {
      "text/plain": [
       "Survived    0\n",
       "Pclass      0\n",
       "Sex         0\n",
       "Age         0\n",
       "SibSp       0\n",
       "Parch       0\n",
       "Fare        0\n",
       "Embarked    0\n",
       "dtype: int64"
      ]
     },
     "execution_count": 107,
     "metadata": {},
     "output_type": "execute_result"
    }
   ],
   "source": [
    "train.isnull().sum()"
   ]
  },
  {
   "cell_type": "code",
   "execution_count": 108,
   "metadata": {},
   "outputs": [],
   "source": [
    "X = train.drop('Survived',axis=1)\n",
    "y = train['Survived']"
   ]
  },
  {
   "cell_type": "code",
   "execution_count": 109,
   "metadata": {},
   "outputs": [],
   "source": [
    "X_train, X_test, y_train, y_test = train_test_split(X,y,test_size = 0.3,random_state = 10)"
   ]
  },
  {
   "cell_type": "code",
   "execution_count": 110,
   "metadata": {},
   "outputs": [],
   "source": [
    "X_train = torch.tensor(X_train.values, dtype=torch.float32)\n",
    "y_train = torch.tensor(y_train.values, dtype=torch.long)\n",
    "X_test = torch.tensor(X_test.values, dtype=torch.float32)\n",
    "y_test = torch.tensor(y_test.values, dtype=torch.long)"
   ]
  },
  {
   "cell_type": "code",
   "execution_count": 111,
   "metadata": {},
   "outputs": [],
   "source": [
    "class TitanicDataset(torch.utils.data.Dataset):\n",
    "    def __init__(self, X, y):\n",
    "        self.X = X\n",
    "        self.y = y\n",
    "\n",
    "    def __len__(self):\n",
    "        return len(self.X)\n",
    "\n",
    "    def __getitem__(self, idx):\n",
    "        X = self.X[idx]\n",
    "        y = self.y[idx]\n",
    "        return X, y"
   ]
  },
  {
   "cell_type": "code",
   "execution_count": 112,
   "metadata": {},
   "outputs": [],
   "source": [
    "train_dataset = TitanicDataset(X_train, y_train)\n",
    "test_dataset = TitanicDataset(X_test, y_test)\n",
    "train_dataloader = DataLoader(train_dataset, batch_size=16, shuffle=True)\n",
    "test_dataloader = DataLoader(test_dataset, batch_size=16, shuffle=False)\n"
   ]
  },
  {
   "cell_type": "code",
   "execution_count": 113,
   "metadata": {},
   "outputs": [],
   "source": [
    "class TitanicModel(nn.Module):\n",
    "    def __init__(self):\n",
    "        super(TitanicModel, self).__init__()\n",
    "        self.fc1 = nn.Linear(7, 16)\n",
    "        self.fc2 = nn.Linear(16, 32)\n",
    "        self.fc3 = nn.Linear(32, 2)\n",
    "\n",
    "    def forward(self, x):\n",
    "        x = nn.functional.relu(self.fc1(x))\n",
    "        x = nn.functional.relu(self.fc2(x))\n",
    "        x = nn.functional.softmax(self.fc3(x), dim=1)\n",
    "        return x\n"
   ]
  },
  {
   "cell_type": "code",
   "execution_count": 114,
   "metadata": {},
   "outputs": [],
   "source": [
    "model = TitanicModel()\n",
    "criterion = nn.CrossEntropyLoss()\n",
    "optimizer = optim.Adam(model.parameters(), lr=0.001)"
   ]
  },
  {
   "cell_type": "code",
   "execution_count": 115,
   "metadata": {},
   "outputs": [
    {
     "name": "stdout",
     "output_type": "stream",
     "text": [
      "Epoch 1: Train Loss=0.6671, Train Acc=0.5923, Test Loss=0.5635, Test Acc=0.7649\n",
      "Epoch 2: Train Loss=0.6299, Train Acc=0.6677, Test Loss=0.5579, Test Acc=0.7724\n",
      "Epoch 3: Train Loss=0.6256, Train Acc=0.6581, Test Loss=0.5612, Test Acc=0.7500\n",
      "Epoch 4: Train Loss=0.6173, Train Acc=0.6838, Test Loss=0.5491, Test Acc=0.7761\n",
      "Epoch 5: Train Loss=0.6151, Train Acc=0.6838, Test Loss=0.5439, Test Acc=0.7836\n",
      "Epoch 6: Train Loss=0.6127, Train Acc=0.6790, Test Loss=0.5568, Test Acc=0.7687\n",
      "Epoch 7: Train Loss=0.6172, Train Acc=0.6854, Test Loss=0.5402, Test Acc=0.7761\n",
      "Epoch 8: Train Loss=0.6059, Train Acc=0.6966, Test Loss=0.5357, Test Acc=0.7724\n",
      "Epoch 9: Train Loss=0.5984, Train Acc=0.6838, Test Loss=0.5373, Test Acc=0.7761\n",
      "Epoch 10: Train Loss=0.5948, Train Acc=0.6918, Test Loss=0.5360, Test Acc=0.7761\n",
      "Epoch 11: Train Loss=0.5891, Train Acc=0.6982, Test Loss=0.5331, Test Acc=0.7761\n",
      "Epoch 12: Train Loss=0.5858, Train Acc=0.7127, Test Loss=0.5351, Test Acc=0.7575\n",
      "Epoch 13: Train Loss=0.5847, Train Acc=0.7175, Test Loss=0.5277, Test Acc=0.7537\n",
      "Epoch 14: Train Loss=0.5774, Train Acc=0.7207, Test Loss=0.5203, Test Acc=0.7948\n",
      "Epoch 15: Train Loss=0.5668, Train Acc=0.7335, Test Loss=0.5202, Test Acc=0.7799\n",
      "Epoch 16: Train Loss=0.5610, Train Acc=0.7416, Test Loss=0.5200, Test Acc=0.7985\n",
      "Epoch 17: Train Loss=0.5539, Train Acc=0.7640, Test Loss=0.5141, Test Acc=0.8022\n",
      "Epoch 18: Train Loss=0.5487, Train Acc=0.7592, Test Loss=0.5162, Test Acc=0.7799\n",
      "Epoch 19: Train Loss=0.5500, Train Acc=0.7624, Test Loss=0.5116, Test Acc=0.7985\n",
      "Epoch 20: Train Loss=0.5461, Train Acc=0.7689, Test Loss=0.5048, Test Acc=0.7985\n",
      "Epoch 21: Train Loss=0.5383, Train Acc=0.7705, Test Loss=0.5016, Test Acc=0.8172\n",
      "Epoch 22: Train Loss=0.5351, Train Acc=0.7640, Test Loss=0.5030, Test Acc=0.8134\n",
      "Epoch 23: Train Loss=0.5302, Train Acc=0.7849, Test Loss=0.4934, Test Acc=0.8284\n"
     ]
    }
   ],
   "source": [
    "for epoch in range(23):\n",
    "    train_loss = 0\n",
    "    train_acc = 0\n",
    "    for X, y in train_dataloader:\n",
    "        optimizer.zero_grad()\n",
    "        y_pred = model(X)\n",
    "        loss = criterion(y_pred, y)\n",
    "        train_loss += loss.item()\n",
    "        loss.backward()\n",
    "        optimizer.step()\n",
    "        train_acc += (y_pred.argmax(dim=1) == y).sum().item()\n",
    "    train_loss /= len(train_dataloader)\n",
    "    train_acc /= len(train_dataset)\n",
    "    \n",
    "    # Оценка модели на тестовом наборе\n",
    "    test_loss = 0\n",
    "    test_acc = 0\n",
    "    with torch.no_grad():\n",
    "        for X, y in test_dataloader:\n",
    "            y_pred = model(X)\n",
    "            loss = criterion(y_pred, y)\n",
    "            test_loss += loss.item()\n",
    "            test_acc += (y_pred.argmax(dim=1) == y).sum().item()\n",
    "        test_loss /= len(test_dataloader)\n",
    "        test_acc /= len(test_dataset)\n",
    "    \n",
    "    # Вывод результатов\n",
    "    print(f'Epoch {epoch + 1}: Train Loss={train_loss:.4f}, Train Acc={train_acc:.4f}, Test Loss={test_loss:.4f}, Test Acc={test_acc:.4f}')"
   ]
  }
 ],
 "metadata": {
  "kernelspec": {
   "display_name": "Python 3",
   "language": "python",
   "name": "python3"
  },
  "language_info": {
   "codemirror_mode": {
    "name": "ipython",
    "version": 3
   },
   "file_extension": ".py",
   "mimetype": "text/x-python",
   "name": "python",
   "nbconvert_exporter": "python",
   "pygments_lexer": "ipython3",
   "version": "3.11.3"
  },
  "orig_nbformat": 4
 },
 "nbformat": 4,
 "nbformat_minor": 2
}
